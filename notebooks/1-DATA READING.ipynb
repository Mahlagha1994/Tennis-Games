{
 "cells": [
  {
   "cell_type": "markdown",
   "id": "84c153ef",
   "metadata": {},
   "source": [
    "# Tennis Game"
   ]
  },
  {
   "cell_type": "markdown",
   "id": "01a29aa0",
   "metadata": {},
   "source": [
    "## Step 1: Data reading\n"
   ]
  },
  {
   "cell_type": "markdown",
   "id": "a5c5c08f",
   "metadata": {},
   "source": [
    "1- Importing necessary libraries"
   ]
  },
  {
   "cell_type": "code",
   "execution_count": 1,
   "id": "0cb8bc8d",
   "metadata": {},
   "outputs": [],
   "source": [
    "import pandas as pd\n",
    "import os\n",
    "import zipfile"
   ]
  },
  {
   "cell_type": "markdown",
   "id": "178e09fb",
   "metadata": {},
   "source": [
    "2- Unziping data files"
   ]
  },
  {
   "cell_type": "code",
   "execution_count": 2,
   "id": "d96cab38",
   "metadata": {},
   "outputs": [],
   "source": [
    "folder = '/Users/mahlagha/TennisGame_Repository/data/raw/202405'\n",
    "extension = \".zip\"\n",
    "os.chdir(folder) \n",
    "\n",
    "for item in os.listdir(folder): \n",
    "    if item.endswith(extension): \n",
    "        file_name = os.path.abspath(item) \n",
    "        zip_ref = zipfile.ZipFile(item) \n",
    "        zip_ref.extractall(folder) "
   ]
  },
  {
   "cell_type": "markdown",
   "id": "7cd05fe9",
   "metadata": {},
   "source": [
    "3- Making a dictionary of empty dataframes"
   ]
  },
  {
   "cell_type": "code",
   "execution_count": 3,
   "id": "7fbce316",
   "metadata": {},
   "outputs": [],
   "source": [
    "dataframes = {\n",
    "    'match_time_info': pd.DataFrame(),\n",
    "    'match_season_info': pd.DataFrame(),\n",
    "    'match_round_info': pd.DataFrame(),\n",
    "    'match_venue_info': pd.DataFrame(),\n",
    "    'match_event_info': pd.DataFrame(),\n",
    "    'match_tournament_info': pd.DataFrame(),\n",
    "    'match_awayteam_info': pd.DataFrame(),\n",
    "    'match_awayscore_info': pd.DataFrame(),\n",
    "    'match_hometeam_info': pd.DataFrame(),\n",
    "    'match_homescore_info': pd.DataFrame(),\n",
    "    'odds_info': pd.DataFrame(),\n",
    "    'match_votes_info': pd.DataFrame(),\n",
    "    'game_info': pd.DataFrame(),\n",
    "    'power_info': pd.DataFrame(),\n",
    "    'period_info': pd.DataFrame(),\n",
    "}"
   ]
  },
  {
   "cell_type": "markdown",
   "id": "0a9969b0",
   "metadata": {},
   "source": [
    "4-  function for Loading and concatenating dataframes "
   ]
  },
  {
   "cell_type": "code",
   "execution_count": 4,
   "id": "5f668e16",
   "metadata": {},
   "outputs": [],
   "source": [
    "def load_and_concat(df, file_path):\n",
    "    new_df = pd.read_parquet(file_path)\n",
    "    df = pd.concat([df, new_df], ignore_index=True)\n",
    "    return df\n"
   ]
  },
  {
   "cell_type": "markdown",
   "id": "25d4aa7b",
   "metadata": {},
   "source": [
    "5- Mapping Prefixes to DataFrames"
   ]
  },
  {
   "cell_type": "code",
   "execution_count": 6,
   "id": "ae7d4443",
   "metadata": {},
   "outputs": [],
   "source": [
    "prefix_to_key = {\n",
    "    'match_time_info': 'time',\n",
    "    'match_season_info': 'season',\n",
    "    'match_round_info': 'round',\n",
    "    'match_venue_info': 'venue',\n",
    "    'match_event_info': 'event',\n",
    "    'match_tournament_info': 'tournament',\n",
    "    'match_awayteam_info': 'away_team_1',\n",
    "    'match_awayscore_info': 'away_team_score',\n",
    "    'match_hometeam_info': 'home_team_1',\n",
    "    'match_homescore_info': 'home_team_score',\n",
    "    'odds_info': 'odds',\n",
    "    'match_votes_info': 'votes',\n",
    "    'game_info': 'pbp',\n",
    "    'power_info': 'power',\n",
    "    'period_info': 'statistics',\n",
    "}\n"
   ]
  },
  {
   "cell_type": "markdown",
   "id": "955bff14",
   "metadata": {},
   "source": [
    "6- Loop to iterate through each directory"
   ]
  },
  {
   "cell_type": "code",
   "execution_count": 7,
   "id": "4e9379b3",
   "metadata": {},
   "outputs": [
    {
     "name": "stdout",
     "output_type": "stream",
     "text": [
      "Completed\n"
     ]
    }
   ],
   "source": [
    "path = \"/Users/mahlagha/TennisGame_Repository/data/raw/202405/data/raw\"\n",
    "\n",
    "for f in os.listdir(path):\n",
    "    entry_path = os.path.join(path, f)\n",
    "    if os.path.isdir(entry_path):\n",
    "        for s in os.listdir(entry_path):\n",
    "            for prefix, key in prefix_to_key.items():\n",
    "                if s.startswith(key):\n",
    "                    file_path = os.path.join(entry_path, s)\n",
    "                    dataframes[prefix] = load_and_concat(dataframes[prefix], file_path)\n",
    "                    break\n",
    "                    \n",
    "print('Completed')"
   ]
  },
  {
   "cell_type": "markdown",
   "id": "b33da686",
   "metadata": {},
   "source": [
    "7- A loop to save dataframes as csv files and print the shape of them"
   ]
  },
  {
   "cell_type": "code",
   "execution_count": 8,
   "id": "e0ac59ba",
   "metadata": {},
   "outputs": [
    {
     "name": "stdout",
     "output_type": "stream",
     "text": [
      "Shape of match_time_info is: (9319, 7)\n",
      "Shape of match_season_info is: (9319, 4)\n",
      "Shape of match_round_info is: (5790, 5)\n",
      "Shape of match_venue_info is: (9286, 5)\n",
      "Shape of match_event_info is: (9319, 10)\n",
      "Shape of match_tournament_info is: (9319, 16)\n",
      "Shape of match_awayteam_info is: (6143, 18)\n",
      "Shape of match_awayscore_info is: (9319, 14)\n",
      "Shape of match_hometeam_info is: (6670, 18)\n",
      "Shape of match_homescore_info is: (9319, 14)\n",
      "Shape of odds_info is: (15774, 11)\n",
      "Shape of match_votes_info is: (9319, 3)\n",
      "Shape of game_info is: (751256, 13)\n",
      "Shape of power_info is: (136637, 5)\n",
      "Shape of period_info is: (402853, 13)\n"
     ]
    }
   ],
   "source": [
    "csv_path = \"/Users/mahlagha/TennisGame_Repository/data/processed\"\n",
    "\n",
    "for key, df in dataframes.items():\n",
    "    csv_file_path = os.path.join(csv_path, f\"{key}.csv\")\n",
    "    df.to_csv(csv_file_path, index=False)\n",
    "    print(f'Shape of {key} is: {df.shape}')"
   ]
  }
 ],
 "metadata": {
  "kernelspec": {
   "display_name": "Python 3 (Spyder)",
   "language": "python3",
   "name": "python3"
  },
  "language_info": {
   "codemirror_mode": {
    "name": "ipython",
    "version": 3
   },
   "file_extension": ".py",
   "mimetype": "text/x-python",
   "name": "python",
   "nbconvert_exporter": "python",
   "pygments_lexer": "ipython3",
   "version": "3.11.8"
  }
 },
 "nbformat": 4,
 "nbformat_minor": 5
}
