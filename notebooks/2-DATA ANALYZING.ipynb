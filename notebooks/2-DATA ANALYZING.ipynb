{
 "cells": [
  {
   "cell_type": "markdown",
   "id": "f2b7f7a8",
   "metadata": {},
   "source": [
    "# Tennis Game"
   ]
  },
  {
   "cell_type": "markdown",
   "id": "3f43e688",
   "metadata": {},
   "source": [
    "## Data Analyzing"
   ]
  },
  {
   "cell_type": "code",
   "execution_count": 2,
   "id": "7dd0f253",
   "metadata": {},
   "outputs": [],
   "source": [
    "import pandas as pd\n",
    "import matplotlib.pyplot as plt"
   ]
  },
  {
   "cell_type": "code",
   "execution_count": 3,
   "id": "3624f5c0",
   "metadata": {},
   "outputs": [],
   "source": [
    "GameInfo = pd.read_csv(\"/Users/mahlagha/TennisGame_Repository/data/processed/GameInfo.csv\").drop(columns=[\"Unnamed: 0\"])\n",
    "MatchAwayScoreInfo = pd.read_csv(\"/Users/mahlagha/TennisGame_Repository/data/processed/MatchAwayScoreInfo.csv\").drop(columns=[\"Unnamed: 0\"])\n",
    "MatchAwayTeamInfo = pd.read_csv(\"/Users/mahlagha/TennisGame_Repository/data/processed/MatchAwayTeamInfo.csv\").drop(columns=[\"Unnamed: 0\"])\n",
    "MatchEventInfo = pd.read_csv(\"/Users/mahlagha/TennisGame_Repository/data/processed/MatchEventInfo.csv\").drop(columns=[\"Unnamed: 0\"])\n",
    "MatchHomeScoreInfo = pd.read_csv(\"/Users/mahlagha/TennisGame_Repository/data/processed/MatchHomeScoreInfo.csv\").drop(columns=[\"Unnamed: 0\"])\n",
    "MatchHomeTeamInfo = pd.read_csv(\"/Users/mahlagha/TennisGame_Repository/data/processed/MatchHomeTeamInfo.csv\").drop(columns=[\"Unnamed: 0\"])\n",
    "MatchRoundInfo = pd.read_csv(\"/Users/mahlagha/TennisGame_Repository/data/processed/MatchRoundInfo.csv\").drop(columns=[\"Unnamed: 0\"])\n",
    "MatchTimeInfo = pd.read_csv(\"/Users/mahlagha/TennisGame_Repository/data/processed/MatchTimeInfo.csv\").drop(columns=[\"Unnamed: 0\"])\n",
    "MatchSeasonInfo = pd.read_csv(\"/Users/mahlagha/TennisGame_Repository/data/processed/MatchSeasonInfo.csv\").drop(columns=[\"Unnamed: 0\"])\n",
    "MatchTournamentInfo = pd.read_csv(\"/Users/mahlagha/TennisGame_Repository/data/processed/MatchTournamentInfo.csv\").drop(columns=[\"Unnamed: 0\"])\n",
    "MatchVenueInfo = pd.read_csv(\"/Users/mahlagha/TennisGame_Repository/data/processed/MatchVenueInfo.csv\").drop(columns=[\"Unnamed: 0\"])\n",
    "MatchVotesInfo = pd.read_csv(\"/Users/mahlagha/TennisGame_Repository/data/processed/MatchVotesInfo.csv\").drop(columns=[\"Unnamed: 0\"])\n",
    "OddsInfo = pd.read_csv(\"/Users/mahlagha/TennisGame_Repository/data/processed/OddsInfo.csv\").drop(columns=[\"Unnamed: 0\"])\n",
    "PeriodInfo = pd.read_csv(\"/Users/mahlagha/TennisGame_Repository/data/processed/PeriodInfo.csv\").drop(columns=[\"Unnamed: 0\"])\n",
    "PowerInfo = pd.read_csv(\"/Users/mahlagha/TennisGame_Repository/data/processed/PowerInfo.csv\").drop(columns=[\"Unnamed: 0\"])"
   ]
  },
  {
   "cell_type": "markdown",
   "id": "61b64187",
   "metadata": {},
   "source": [
    "1. How many tennis players are included in the dataset?"
   ]
  },
  {
   "cell_type": "markdown",
   "id": "dd2a20db",
   "metadata": {},
   "source": [
    "1. solution 1"
   ]
  },
  {
   "cell_type": "code",
   "execution_count": 6,
   "id": "4d95b01b",
   "metadata": {},
   "outputs": [
    {
     "name": "stdout",
     "output_type": "stream",
     "text": [
      "The number of all teniss players is 2352\n"
     ]
    }
   ],
   "source": [
    "player_id = pd.concat([MatchAwayTeamInfo[\"player_id\"], MatchHomeTeamInfo[\"player_id\"]])\n",
    "player_num = player_id.unique().size\n",
    "print(f'The number of all teniss players is {player_num}')"
   ]
  },
  {
   "cell_type": "markdown",
   "id": "454b9c3c",
   "metadata": {},
   "source": [
    "2. solution 2"
   ]
  },
  {
   "cell_type": "code",
   "execution_count": 7,
   "id": "1042f193",
   "metadata": {},
   "outputs": [
    {
     "name": "stdout",
     "output_type": "stream",
     "text": [
      "The number of all teniss players is 2353\n"
     ]
    }
   ],
   "source": [
    "player_full_name = pd.concat([MatchAwayTeamInfo[\"full_name\"], MatchHomeTeamInfo[\"full_name\"]])\n",
    "player_num = player_full_name.unique().size\n",
    "print(f'The number of all teniss players is {player_num}')"
   ]
  },
  {
   "cell_type": "markdown",
   "id": "edf58d9a",
   "metadata": {},
   "source": [
    "2.  What is the average height of the players?\n"
   ]
  },
  {
   "cell_type": "code",
   "execution_count": 8,
   "id": "52f53625",
   "metadata": {},
   "outputs": [
    {
     "data": {
      "text/html": [
       "<div>\n",
       "<style scoped>\n",
       "    .dataframe tbody tr th:only-of-type {\n",
       "        vertical-align: middle;\n",
       "    }\n",
       "\n",
       "    .dataframe tbody tr th {\n",
       "        vertical-align: top;\n",
       "    }\n",
       "\n",
       "    .dataframe thead th {\n",
       "        text-align: right;\n",
       "    }\n",
       "</style>\n",
       "<table border=\"1\" class=\"dataframe\">\n",
       "  <thead>\n",
       "    <tr style=\"text-align: right;\">\n",
       "      <th></th>\n",
       "      <th>player_id</th>\n",
       "      <th>height</th>\n",
       "    </tr>\n",
       "  </thead>\n",
       "  <tbody>\n",
       "    <tr>\n",
       "      <th>0</th>\n",
       "      <td>370698</td>\n",
       "      <td>NaN</td>\n",
       "    </tr>\n",
       "    <tr>\n",
       "      <th>1</th>\n",
       "      <td>98607</td>\n",
       "      <td>1.85</td>\n",
       "    </tr>\n",
       "    <tr>\n",
       "      <th>2</th>\n",
       "      <td>371052</td>\n",
       "      <td>NaN</td>\n",
       "    </tr>\n",
       "    <tr>\n",
       "      <th>3</th>\n",
       "      <td>124930</td>\n",
       "      <td>1.85</td>\n",
       "    </tr>\n",
       "    <tr>\n",
       "      <th>4</th>\n",
       "      <td>192346</td>\n",
       "      <td>NaN</td>\n",
       "    </tr>\n",
       "    <tr>\n",
       "      <th>...</th>\n",
       "      <td>...</td>\n",
       "      <td>...</td>\n",
       "    </tr>\n",
       "    <tr>\n",
       "      <th>14085</th>\n",
       "      <td>206602</td>\n",
       "      <td>1.73</td>\n",
       "    </tr>\n",
       "    <tr>\n",
       "      <th>14086</th>\n",
       "      <td>353490</td>\n",
       "      <td>NaN</td>\n",
       "    </tr>\n",
       "    <tr>\n",
       "      <th>14087</th>\n",
       "      <td>217136</td>\n",
       "      <td>1.63</td>\n",
       "    </tr>\n",
       "    <tr>\n",
       "      <th>14088</th>\n",
       "      <td>390213</td>\n",
       "      <td>NaN</td>\n",
       "    </tr>\n",
       "    <tr>\n",
       "      <th>14089</th>\n",
       "      <td>198123</td>\n",
       "      <td>NaN</td>\n",
       "    </tr>\n",
       "  </tbody>\n",
       "</table>\n",
       "<p>27045 rows × 2 columns</p>\n",
       "</div>"
      ],
      "text/plain": [
       "       player_id  height\n",
       "0         370698     NaN\n",
       "1          98607    1.85\n",
       "2         371052     NaN\n",
       "3         124930    1.85\n",
       "4         192346     NaN\n",
       "...          ...     ...\n",
       "14085     206602    1.73\n",
       "14086     353490     NaN\n",
       "14087     217136    1.63\n",
       "14088     390213     NaN\n",
       "14089     198123     NaN\n",
       "\n",
       "[27045 rows x 2 columns]"
      ]
     },
     "execution_count": 8,
     "metadata": {},
     "output_type": "execute_result"
    }
   ],
   "source": [
    "player_info = pd.concat([MatchAwayTeamInfo[[\"player_id\", \"height\"]]\n",
    "                        , MatchHomeTeamInfo[[\"player_id\", \"height\"]]])\n",
    "player_info"
   ]
  },
  {
   "cell_type": "markdown",
   "id": "4ae625e8",
   "metadata": {},
   "source": [
    "Finding nan values for unique player id and replacing"
   ]
  },
  {
   "cell_type": "code",
   "execution_count": 9,
   "id": "b8996411",
   "metadata": {},
   "outputs": [
    {
     "name": "stdout",
     "output_type": "stream",
     "text": [
      "0      36\n",
      "1     217\n",
      "2     878\n",
      "3    1452\n",
      "4    1684\n",
      "5    1985\n",
      "6    2321\n",
      "dtype: int64\n"
     ]
    }
   ],
   "source": [
    "player_info = pd.concat([MatchAwayTeamInfo[[\"player_id\", \"height\"]]\n",
    "                        , MatchHomeTeamInfo[[\"player_id\", \"height\"]]])\n",
    "\n",
    "player_info[player_info.duplicated()].sort_values(\"player_id\")\n",
    "#----------------------------------\n",
    "player_info\n",
    "player_id = player_info[\"player_id\"].unique()\n",
    "player_id_nan_notna=[]\n",
    "for i in range(player_id.size):\n",
    "    nullcount = player_info[player_info[\"player_id\"]==player_id[i]][\"height\"].isna().sum()\n",
    "    nanullcount = player_info[player_info[\"player_id\"]==player_id[i]][\"height\"].notna().sum()\n",
    "    if nullcount != 0:\n",
    "        if nanullcount !=0:\n",
    "            player_id_nan_notna.append(i)\n",
    "player_id_nan_notna = pd.Series(player_id_nan_notna)\n",
    "\n",
    "print(player_id_nan_notna)"
   ]
  },
  {
   "cell_type": "code",
   "execution_count": 10,
   "id": "37aab8cd",
   "metadata": {},
   "outputs": [],
   "source": [
    "for i in player_id_nan_notna:\n",
    "    player_info[player_info[\"player_id\"]==player_id[i]] = (player_info[player_info[\"player_id\"]==player_id[i]]\n",
    "                                                           .sort_values(\"height\").ffill())"
   ]
  },
  {
   "cell_type": "code",
   "execution_count": 11,
   "id": "38d8b3ab",
   "metadata": {},
   "outputs": [
    {
     "name": "stdout",
     "output_type": "stream",
     "text": [
      "The Average height of Players is: 1.825\n"
     ]
    }
   ],
   "source": [
    "cleaned_player_info = player_info.drop_duplicates(subset=['player_id'])\n",
    "height_mode = float(cleaned_player_info['height'].mode().iloc[0])\n",
    "cleaned_player_info = cleaned_player_info.fillna(value = height_mode)\n",
    "height_mean = cleaned_player_info['height'].mean().round(3)\n",
    "print(f'The Average height of Players is: {height_mean}')"
   ]
  },
  {
   "cell_type": "markdown",
   "id": "485f2e4e",
   "metadata": {},
   "source": [
    "3.  Which player has the highest number of wins?\n"
   ]
  },
  {
   "cell_type": "markdown",
   "id": "8b8954bb",
   "metadata": {},
   "source": [
    "ignoring nan values of winner code"
   ]
  },
  {
   "cell_type": "code",
   "execution_count": 12,
   "id": "7d386c64",
   "metadata": {},
   "outputs": [
    {
     "name": "stdout",
     "output_type": "stream",
     "text": [
      "Player with the highest number of wins:\n",
      " player_id         253356\n",
      "wins                  75\n",
      "name         Uchijima M.\n",
      "Name: 0, dtype: object\n"
     ]
    }
   ],
   "source": [
    "merged_home = pd.merge(MatchEventInfo, MatchHomeTeamInfo, on='match_id', suffixes=['_home'])\n",
    "merged_away = pd.merge(MatchEventInfo, MatchAwayTeamInfo, on='match_id', suffixes=['_away'])\n",
    "\n",
    "home_wins = merged_home[merged_home['winner_code'] == 1][['player_id', 'name']].copy()\n",
    "away_wins = merged_away[merged_away['winner_code'] == 2][['player_id', 'name']].copy()\n",
    "\n",
    "all_wins = pd.concat([home_wins, away_wins])\n",
    "\n",
    "win_counts = all_wins['player_id'].value_counts().reset_index()\n",
    "win_counts.columns = ['player_id', 'wins']\n",
    "\n",
    "player_names = all_wins[['player_id', 'name']].drop_duplicates()\n",
    "win_counts = win_counts.merge(player_names, on='player_id')\n",
    "\n",
    "top_player = win_counts.loc[win_counts['wins'].idxmax()]\n",
    "\n",
    "print(\"Player with the highest number of wins:\\n\", top_player)"
   ]
  },
  {
   "cell_type": "markdown",
   "id": "5eab86eb",
   "metadata": {},
   "source": [
    "4.  What is the longest match recorded in terms of duration?\n"
   ]
  },
  {
   "cell_type": "markdown",
   "id": "8c8bbccf",
   "metadata": {},
   "source": [
    "### Solution 1"
   ]
  },
  {
   "cell_type": "code",
   "execution_count": 13,
   "id": "f4044aa8",
   "metadata": {},
   "outputs": [
    {
     "name": "stdout",
     "output_type": "stream",
     "text": [
      "Longest match recorded is for 12346747 match_id during 513458.0\n"
     ]
    }
   ],
   "source": [
    "timestamp_table = MatchTimeInfo.groupby(by=\"match_id\").sum().drop(columns=['current_period_start_timestamp']).sum(axis=1).sort_values(ascending=False)\n",
    "timestamp_table.idxmax()\n",
    "timestamp_table[timestamp_table.idxmax()]\n",
    "print(f'Longest match recorded is for {timestamp_table.idxmax()} match_id during {timestamp_table[timestamp_table.idxmax()]}')"
   ]
  },
  {
   "cell_type": "markdown",
   "id": "21fec13b",
   "metadata": {},
   "source": [
    "### Solution 2"
   ]
  },
  {
   "cell_type": "code",
   "execution_count": 14,
   "id": "a7dc66a1",
   "metadata": {},
   "outputs": [
    {
     "name": "stdout",
     "output_type": "stream",
     "text": [
      "Longest match recorded is for 12346747 match_id during 513458.0\n"
     ]
    }
   ],
   "source": [
    "timestamp = pd.pivot_table(data=MatchTimeInfo, values=['period_1', 'period_2', 'period_3', 'period_4', 'period_4'], aggfunc='sum', index='match_id')\n",
    "timestamp.sum(axis=1).sort_values(ascending=False)\n",
    "print(f'Longest match recorded is for {timestamp_table.idxmax()} match_id during {timestamp_table[timestamp_table.idxmax()]}')"
   ]
  },
  {
   "cell_type": "markdown",
   "id": "78655107",
   "metadata": {},
   "source": [
    "5.\tHow many sets are typically played in a tennis match?"
   ]
  },
  {
   "cell_type": "code",
   "execution_count": 6,
   "id": "41ad37e2",
   "metadata": {},
   "outputs": [
    {
     "data": {
      "text/html": [
       "<div>\n",
       "<style scoped>\n",
       "    .dataframe tbody tr th:only-of-type {\n",
       "        vertical-align: middle;\n",
       "    }\n",
       "\n",
       "    .dataframe tbody tr th {\n",
       "        vertical-align: top;\n",
       "    }\n",
       "\n",
       "    .dataframe thead th {\n",
       "        text-align: right;\n",
       "    }\n",
       "</style>\n",
       "<table border=\"1\" class=\"dataframe\">\n",
       "  <thead>\n",
       "    <tr style=\"text-align: right;\">\n",
       "      <th></th>\n",
       "      <th>match_id</th>\n",
       "      <th>percentage</th>\n",
       "    </tr>\n",
       "    <tr>\n",
       "      <th>set_id</th>\n",
       "      <th></th>\n",
       "      <th></th>\n",
       "    </tr>\n",
       "  </thead>\n",
       "  <tbody>\n",
       "    <tr>\n",
       "      <th>1</th>\n",
       "      <td>650561</td>\n",
       "      <td>44.35</td>\n",
       "    </tr>\n",
       "    <tr>\n",
       "      <th>2</th>\n",
       "      <td>629257</td>\n",
       "      <td>42.89</td>\n",
       "    </tr>\n",
       "    <tr>\n",
       "      <th>3</th>\n",
       "      <td>180873</td>\n",
       "      <td>12.33</td>\n",
       "    </tr>\n",
       "    <tr>\n",
       "      <th>4</th>\n",
       "      <td>4347</td>\n",
       "      <td>0.30</td>\n",
       "    </tr>\n",
       "    <tr>\n",
       "      <th>5</th>\n",
       "      <td>1975</td>\n",
       "      <td>0.13</td>\n",
       "    </tr>\n",
       "  </tbody>\n",
       "</table>\n",
       "</div>"
      ],
      "text/plain": [
       "        match_id  percentage\n",
       "set_id                      \n",
       "1         650561       44.35\n",
       "2         629257       42.89\n",
       "3         180873       12.33\n",
       "4           4347        0.30\n",
       "5           1975        0.13"
      ]
     },
     "metadata": {},
     "output_type": "display_data"
    },
    {
     "data": {
      "image/png": "[encoded data removed]",
      "text/plain": [
       "<Figure size 640x480 with 1 Axes>"
      ]
     },
     "metadata": {},
     "output_type": "display_data"
    }
   ],
   "source": [
    "count_set_per_match = pd.DataFrame(GameInfo.groupby('set_id').count()['match_id'])\n",
    "count_set_per_match ['percentage'] = ((count_set_per_match / count_set_per_match.sum())*100).round(2)\n",
    "display(count_set_per_match)\n",
    "labels = ['Set_1', 'Set_2', 'Set_3', 'Set_4', 'Set_5']\n",
    "data = count_set_per_match['percentage']\n",
    "plt.pie(x=data, labels=labels, autopct = '%1.1f%%')\n",
    "plt.title ('percentage of per set in all matches')\n",
    "plt.show()"
   ]
  },
  {
   "cell_type": "code",
   "execution_count": null,
   "id": "550d5473",
   "metadata": {},
   "outputs": [],
   "source": []
  },
  {
   "cell_type": "markdown",
   "id": "6730b58c",
   "metadata": {},
   "source": [
    "6.\tWhich country has produced the most successful tennis players?"
   ]
  },
  {
   "cell_type": "code",
   "execution_count": 18,
   "id": "8d4b5c2c",
   "metadata": {},
   "outputs": [
    {
     "name": "stdout",
     "output_type": "stream",
     "text": [
      "The most successful country is USA\n"
     ]
    }
   ],
   "source": [
    "home_wins = merged_home[merged_home['winner_code'] == 1][['player_id', 'name', 'country']].copy()\n",
    "away_wins = merged_away[merged_away['winner_code'] == 2][['player_id', 'name', 'country']].copy()\n",
    "\n",
    "all_wins = pd.concat([home_wins, away_wins])\n",
    "\n",
    "win_counts = all_wins['player_id'].value_counts().reset_index()\n",
    "win_counts.columns = ['player_id', 'wins']\n",
    "\n",
    "player_names = all_wins[['player_id', 'name', 'country']].drop_duplicates()\n",
    "win_counts = win_counts.merge(player_names, on='player_id')\n",
    "\n",
    "win_country = win_counts.groupby(['country']).count()['wins'].sort_values(ascending=False)\n",
    "print(f'The most successful country is {win_country.idxmax()}')"
   ]
  },
  {
   "cell_type": "markdown",
   "id": "04be6d86",
   "metadata": {},
   "source": [
    "7.  What is the average number of aces per match?\n"
   ]
  },
  {
   "cell_type": "code",
   "execution_count": 4,
   "id": "c175de6f",
   "metadata": {},
   "outputs": [
    {
     "data": {
      "text/plain": [
       "statistic_name    1.974695\n",
       "dtype: float64"
      ]
     },
     "execution_count": 4,
     "metadata": {},
     "output_type": "execute_result"
    }
   ],
   "source": [
    "ace_info= PeriodInfo[(PeriodInfo['statistic_name'] =='aces') & (PeriodInfo['period'] ==('ALL'))]\n",
    "ace_count =( pd.DataFrame(pd.pivot_table(ace_info, values=['statistic_name'],index='match_id', aggfunc='count')))\n",
    "ace_count.sort_values('statistic_name',ascending=False).mean()"
   ]
  },
  {
   "cell_type": "code",
   "execution_count": 5,
   "id": "71b4508e",
   "metadata": {},
   "outputs": [
    {
     "name": "stderr",
     "output_type": "stream",
     "text": [
      "/var/folders/4k/rm0q63mj7yld5mswq1w7sr3c0000gn/T/ipykernel_3460/4044262231.py:3: SettingWithCopyWarning: \n",
      "A value is trying to be set on a copy of a slice from a DataFrame.\n",
      "Try using .loc[row_indexer,col_indexer] = value instead\n",
      "\n",
      "See the caveats in the documentation: https://pandas.pydata.org/pandas-docs/stable/user_guide/indexing.html#returning-a-view-versus-a-copy\n",
      "  acc_info_home_away[[\"home_stat\", \"away_stat\"]] = acc_info_home_away[[\"home_stat\", \"away_stat\"]].astype(int)\n"
     ]
    },
    {
     "data": {
      "text/plain": [
       "match_id\n",
       "12337573    74\n",
       "12346364    73\n",
       "12327827    72\n",
       "12276779    66\n",
       "12361918    64\n",
       "            ..\n",
       "12370529     0\n",
       "12346158     0\n",
       "12315217     0\n",
       "12370522     0\n",
       "12353901     0\n",
       "Length: 6797, dtype: int64"
      ]
     },
     "execution_count": 5,
     "metadata": {},
     "output_type": "execute_result"
    }
   ],
   "source": [
    "aces_info = PeriodInfo[(PeriodInfo['statistic_name'] == 'aces') & (PeriodInfo['period'] == 'ALL')]\n",
    "acc_info_home_away = aces_info[[\"match_id\", \"home_stat\", \"away_stat\"]]\n",
    "acc_info_home_away[[\"home_stat\", \"away_stat\"]] = acc_info_home_away[[\"home_stat\", \"away_stat\"]].astype(int)\n",
    "acc_info_home_away.drop_duplicates()\n",
    "acc_info_home_away.groupby(\"match_id\").sum().sum(axis=1).sort_values(ascending=False)"
   ]
  },
  {
   "cell_type": "markdown",
   "id": "de073429",
   "metadata": {},
   "source": [
    "8.\tIs there a difference in the number of double faults based on gender?"
   ]
  },
  {
   "cell_type": "markdown",
   "id": "02050cbd",
   "metadata": {},
   "source": [
    "9.  Which player has won the most tournaments in a single month?\n"
   ]
  },
  {
   "cell_type": "markdown",
   "id": "787096d0",
   "metadata": {},
   "source": [
    "10. Is there a correlation between a player's height and their ranking?\n"
   ]
  },
  {
   "cell_type": "markdown",
   "id": "0f72bec6",
   "metadata": {},
   "source": [
    "11.\tWhat is the average duration of matches?"
   ]
  },
  {
   "cell_type": "markdown",
   "id": "b12cead5",
   "metadata": {},
   "source": [
    "12. What is the average number of games per set in men's matches compared to women's matches?\n"
   ]
  },
  {
   "cell_type": "markdown",
   "id": "001272ec",
   "metadata": {},
   "source": [
    "13.\tWhat is the distribution of left-handed versus right-handed players?"
   ]
  },
  {
   "cell_type": "markdown",
   "id": "6b74ce3a",
   "metadata": {},
   "source": [
    "14.\tWhat is the most common type of surface used in tournaments?"
   ]
  },
  {
   "cell_type": "markdown",
   "id": "bc6c6a2e",
   "metadata": {},
   "source": [
    "15.\tHow many distinct countries are represented in the dataset?"
   ]
  },
  {
   "cell_type": "markdown",
   "id": "0c4a8cba",
   "metadata": {},
   "source": [
    "16.\tWhich player has the highest winning percentage against top 10 ranked opponents?"
   ]
  },
  {
   "cell_type": "markdown",
   "id": "7508dbce",
   "metadata": {},
   "source": [
    "17. What is the average number of breaks of serve per match?\n"
   ]
  },
  {
   "cell_type": "code",
   "execution_count": null,
   "id": "ef3557cc",
   "metadata": {},
   "outputs": [],
   "source": []
  }
 ],
 "metadata": {
  "kernelspec": {
   "display_name": "Python 3 (Spyder)",
   "language": "python3",
   "name": "python3"
  },
  "language_info": {
   "codemirror_mode": {
    "name": "ipython",
    "version": 3
   },
   "file_extension": ".py",
   "mimetype": "text/x-python",
   "name": "python",
   "nbconvert_exporter": "python",
   "pygments_lexer": "ipython3",
   "version": "3.12.4"
  }
 },
 "nbformat": 4,
 "nbformat_minor": 5
}
